{
 "cells": [
  {
   "cell_type": "markdown",
   "metadata": {},
   "source": [
    "Based on a paper of F. Barlat"
   ]
  },
  {
   "cell_type": "markdown",
   "metadata": {},
   "source": [
    "## Load libs"
   ]
  },
  {
   "cell_type": "code",
   "execution_count": null,
   "metadata": {
    "collapsed": false
   },
   "outputs": [],
   "source": [
    "%pylab inline\n",
    "import time\n",
    "import lib;reload(lib)\n",
    "from lib import *\n",
    "import yf;reload(yf)\n",
    "from yf import *\n",
    "import func_hard; reload(func_hard)\n",
    "from func_hard import *\n",
    "from MP import progress_bar\n",
    "uet = progress_bar.update_elapsed_time\n",
    "import multiprocessing\n",
    "from multiprocessing import Pool\n",
    "from scipy import optimize\n",
    "\n",
    "import modules"
   ]
  },
  {
   "cell_type": "markdown",
   "metadata": {},
   "source": [
    "- Rotation mat\n",
    "\n",
    "$\\bar{R}= \n",
    "  \\begin{bmatrix}\n",
    "  \\cos{\\psi}  &-\\sin{\\psi} & 0 \\\\\n",
    "  \\sin{\\psi}  & \\cos{\\psi} & 0 \\\\\n",
    "  0  & 0 & 1 \n",
    "  \\end{bmatrix}                                  \n",
    "$"
   ]
  },
  {
   "cell_type": "code",
   "execution_count": null,
   "metadata": {
    "collapsed": true
   },
   "outputs": [],
   "source": [
    "def rot(psi):\n",
    "    psi = psi * np.pi/180.\n",
    "    r = np.zeros((3,3)); c = np.cos(psi); s = np.sin(psi)    \n",
    "    r[0,0]= c;  r[0,1]=-s\n",
    "    r[1,0]= s;  r[1,1]= c\n",
    "    r[2,2]= 1.\n",
    "    return r\n",
    "\n",
    "def rot_tensor(a,psi):\n",
    "    \"\"\"\n",
    "    Arguments\n",
    "    ---------\n",
    "    a\n",
    "    psi (in degree)\n",
    "    \"\"\"\n",
    "    a=np.array(a)\n",
    "    b=np.zeros((3,3))\n",
    "    r=rot(psi)\n",
    "    for i in xrange(3):\n",
    "        for j in xrange(3):\n",
    "            b[i,j] = 0.\n",
    "            for k in xrange(3):\n",
    "                for l in xrange(3):\n",
    "                    b[i,j] = b[i,j] + r[i,k] * a[k,l] * r[j,l]\n",
    "    return b"
   ]
  },
  {
   "cell_type": "markdown",
   "metadata": {},
   "source": [
    "- Test fitting for a phenomenological hardening curve"
   ]
  },
  {
   "cell_type": "code",
   "execution_count": null,
   "metadata": {
    "collapsed": false
   },
   "outputs": [],
   "source": [
    "plt.figure(figsize=(3.5,3.))\n",
    "xdata,ydata=np.loadtxt('/Users/yj/Documents/ExpDat/IFSteel/Bulge/EXP_BULGE_JINKIM.txt').T\n",
    "hparams,dum=optimize.curve_fit(f=func_swift,xdata=xdata,ydata=ydata)\n",
    "eps_bar = np.linspace(0,1.,100)\n",
    "sig_bar = func_swift(eps_bar,*hparams)\n",
    "plot(eps_bar,sig_bar)\n",
    "plot(xdata[::20],ydata[::20],'rx')\n",
    "print hparams\n",
    "\n",
    "ss_temp(gca())"
   ]
  },
  {
   "cell_type": "markdown",
   "metadata": {},
   "source": [
    "### Demonstration of the three important characterisitics\n",
    " 1. Yield surface and stress loading paths\n",
    " 2. Corresponding strain loading paths\n",
    " 3. Equivalent Stress-strain hardening curve"
   ]
  },
  {
   "cell_type": "code",
   "execution_count": null,
   "metadata": {
    "collapsed": false
   },
   "outputs": [],
   "source": [
    "## Material card\n",
    "func_har = func_swift\n",
    "func_ptn = VonMises\n",
    "func_yld = VonMises ## Associated Flow Rule\n",
    "eqv_eps  = VonMisesE\n",
    "##\n",
    "\n",
    "sigma_bar = lambda eps: func_har(eps,*hparams)\n",
    "eps_bar   = np.linspace(0,1.5,1000)\n",
    "\n",
    "#fig=plt.figure(figsize=(3.5,3));ax=gca()\n",
    "#ax.plot(eps_bar,sigma_bar(eps_bar))\n",
    "#ax.set_xlabel(r'Strain $\\bar{\\varepsilon}$')\n",
    "#ax.set_ylabel(r'Stress $\\bar{\\sigma}$')\n",
    "\n",
    "# region A simulations - fairly straight forward.\n",
    "#d_time = 1e-4 ## time increment.\n",
    "#sr     = 1e-3 ## major component\n",
    "delt_ebar = 1e-3 ## incremental step for the hardening curve.\n",
    "alpha  = 1.0   ## BB\n",
    "beta   = 0.0   ## No shear\n",
    "\n",
    "## at the time=0?\n",
    "eps_mx = 0.05\n",
    "eps6=np.zeros(6)\n",
    "ebar = 0.\n",
    "fig=plt.figure(figsize=(11,3))\n",
    "ax1=fig.add_subplot(131)\n",
    "ax2=fig.add_subplot(132)\n",
    "ax3=fig.add_subplot(133)\n",
    "i=0\n",
    "while (ebar<eps_mx):\n",
    "    ebar      = ebar + delt_ebar\n",
    "    sig_bar   = sigma_bar(ebar)\n",
    "    ax3.plot(ebar,sig_bar,'k.')\n",
    "    delt_work = delt_ebar * sig_bar\n",
    "    \n",
    "    ## Current stress tensor \"direction\"\n",
    "    sig_norm6 = alph2sig6(alpha,beta)\n",
    "    sig_norm6 = sig_norm6/func_yld(sig_norm6) ## equivalent stress state\n",
    "    sig6      = sig_norm6*sig_bar\n",
    "\n",
    "    ## Current strain rate tensor direction.\n",
    "    deps6 = alph2eps(alpha,beta,func_ptn)  \n",
    "    ## Correct deps6 magnitude by conjugating the incremental work\n",
    "    dw = 0.\n",
    "    for j in xrange(3):\n",
    "        dw = dw + deps6[j]*sig6[j]\n",
    "        dw = dw + 2*deps6[j+3]*sig6[j+3]\n",
    "    x     = delt_work/dw\n",
    "    deps6 = deps6*x\n",
    "    eps6  = eps6 + deps6\n",
    "\n",
    "    ax1.plot(sig6[0],sig6[1],'k.')\n",
    "    ax2.plot(eps6[0],eps6[1],'k.')\n",
    "    \n",
    "    if i==0: ## draw yield locus\n",
    "        loc1,loc2=y_locus(100,func_yld)\n",
    "        loc1=loc1*sig_bar\n",
    "        ax1.plot(loc1[0],loc1[1])\n",
    "    i=i+1\n",
    "\n",
    "ys_temp(ax1)\n",
    "es_temp(ax2)\n",
    "ss_temp(ax3)\n",
    "ax2.grid('on')\n",
    "ax1.set_xlim(0.,)\n",
    "ax1.set_ylim(0.,)\n",
    "fig.tight_layout()\n",
    "fig.savefig('mk_algorithm.pdf',bbox_inches='tight')"
   ]
  },
  {
   "cell_type": "markdown",
   "metadata": {},
   "source": [
    "## Numerical procedure"
   ]
  },
  {
   "cell_type": "markdown",
   "metadata": {},
   "source": [
    "- Summarize what end-user is supposed to specify:\n",
    "\n",
    "|Symbols                     |Definitions                                          |\n",
    "|:--------------------------:|:---------------------------------------------------:|\n",
    "|$\\alpha$                    |$\\sigma_{11}/\\sigma_{22}$                            |\n",
    "|$\\beta$                     |$\\sigma_{12}/\\sigma_{22}$                            |\n",
    "|$\\dot{\\bar{\\varepsilon}}$   |Equivalent strain rate                               |\n",
    "|$\\Delta{\\bar{\\varepsilon}}$ | Incremental step size in terms of equivalent strain |"
   ]
  },
  {
   "cell_type": "markdown",
   "metadata": {},
   "source": [
    "* Boundary condition\n",
    "Given value of $\\alpha$ and $\\beta$ and strain rate determines the boundary condition of region A."
   ]
  },
  {
   "cell_type": "markdown",
   "metadata": {},
   "source": [
    "* Description of Strain hardening\n",
    "\n",
    "The strain-hardening is described as below\n",
    "\n",
    "$\\begin{equation*}\n",
    "\\bar{\\sigma}=H(\\bar{\\varepsilon})\n",
    "\\end{equation*}\n",
    "$\n",
    "\n",
    "where $\\bar{\\sigma}$ and $\\bar{\\varepsilon}$ are the equivalent stress and strain."
   ]
  },
  {
   "cell_type": "markdown",
   "metadata": {},
   "source": [
    "- Isotropic hardening\n",
    "\n",
    "For the given incremental step size, the corresponding incremental work is useful to follow the isotropic hardening.\n",
    "To that end, the incremental work is obtained through\n",
    "$\\Delta w = \\Delta{\\bar{\\varepsilon}}\\cdot \\bar{\\sigma}$\n",
    "\n",
    "Given the *accummulative* equivalent strain tensor  $\\varepsilon_{ij}$ where $\\bar{\\sigma}$ is determined from the strain-hardening"
   ]
  },
  {
   "cell_type": "markdown",
   "metadata": {},
   "source": [
    "Given a stress path determined by given $\\alpha$ and $\\beta$,\n",
    "the stress state can be found through\n",
    "\n",
    "$\\Sigma_{ij} = \\bar{\\Sigma} \\cdot \\phi^{yld}(\\alpha,\\beta)$\n",
    "where the *direction* of the strain rate vector is determined by the associated flow rule:\n",
    "\n",
    "$\\dot{E}_{k} \\propto \\frac{\\partial\\phi^{yld}}{\\partial \\Sigma_{k}}$"
   ]
  },
  {
   "cell_type": "markdown",
   "metadata": {},
   "source": [
    "The actual incremental strain *tensor* can be determined based on the equivalent work principle:\n",
    "$\\Delta w = \\Delta E_{ij} \\bar{\\Sigma}_{ij}$\n",
    "\n",
    "where $\\bar{\\Sigma}_{ij}$ is determined from the yield surface.\n",
    "\n",
    "Therefore, $\\Delta E_{ij}$ can be found based on $\\Delta w / \\bar{\\Sigma}_{ij}$"
   ]
  },
  {
   "cell_type": "markdown",
   "metadata": {},
   "source": [
    "For the given incremental step size in terms of $\\Delta \\bar{E}$, \n",
    "\n",
    "the full tensorial strain rate can be determined through following.\n",
    "\n",
    "The corresponding incrmental 'time' is\n",
    "\n",
    "$\\Delta t = \\Delta {\\bar{E}}/ \\dot{\\bar{E}}$\n",
    "\n",
    "$\\dot{\\bar{E}}$ is the equivalent strain rate, which is given by the end-user.\n",
    "\n",
    "$\\dot{\\bar{E}}_{ij} = \\Delta E_{ij}/ \\Delta t$"
   ]
  },
  {
   "cell_type": "markdown",
   "metadata": {},
   "source": [
    "## For region A under a single path ($\\alpha$,$\\beta$)"
   ]
  },
  {
   "cell_type": "code",
   "execution_count": null,
   "metadata": {
    "collapsed": false
   },
   "outputs": [],
   "source": [
    "## Functionize the above numerical procedure\n",
    "def FLD_A_one_path(alpha=1.0,beta=0.,\n",
    "                   func_yld = VonMises,\n",
    "                   func_hard = None,\n",
    "                   ebar_mx=0.1,\n",
    "                   delt_ebar=1e-4,\n",
    "                   sr=1e-3,\n",
    "                   **yld_kwargs):\n",
    "    \"\"\"\n",
    "    Arguments\n",
    "    ---------\n",
    "    alpha\n",
    "    beta\n",
    "    func_yld\n",
    "    func_hard\n",
    "    ebar_mx\n",
    "    delt_ebar\n",
    "    sr\n",
    "    **yld_kwargs\n",
    "    \"\"\"\n",
    "    eps6=np.zeros(6)\n",
    "    ebar=0.\n",
    "    time_flow=0.\n",
    "\n",
    "    strain=[]; stress=[]; strain_eq=[]; \n",
    "    stress_eq=[]; time_stamps=[]; strain_rate=[];\n",
    "\n",
    "    # strain rate\n",
    "    # sr = delt_ebar / time.\n",
    "    # Inversely, \n",
    "    # time = delt_ebar / sr\n",
    "    # Therefore, given time, the tensorial strain rate would be...\n",
    "    # reps6 = deps6 / time\n",
    "\n",
    "    i=0\n",
    "    while (ebar<ebar_mx):\n",
    "        ebar      = ebar + delt_ebar\n",
    "        sig_bar   = func_hard(ebar) ## static flow stress\n",
    "        delt_work = delt_ebar * sig_bar\n",
    "\n",
    "        if i==0: ## when initial anisotropy is considered (constant shape Yield Surface)\n",
    "            ## Cauchy stress vector direction\n",
    "            sig_norm6 = alph2sig6(alpha,beta)\n",
    "            ## equivalent stress state\n",
    "            sig_norm6 = sig_norm6 / func_yld(sig_norm6,**yld_kwargs)\n",
    "            ## Strains vector direction (deviatoric strain).\n",
    "            deps6 = alph2eps(alpha,beta,func_yld,**yld_kwargs)\n",
    "            pass\n",
    "\n",
    "        ## Cauchy stress\n",
    "        sig6        = sig_norm6*sig_bar\n",
    "        ## Correct deps6 magnitude by conjugating the incremental work\n",
    "        dw = 0.\n",
    "        for j in xrange(3):\n",
    "            dw = dw + deps6[j]*sig6[j]\n",
    "            dw = dw + 2*deps6[j+3]*sig6[j+3]\n",
    "\n",
    "        # delta time\n",
    "        dt          = delt_ebar  / sr\n",
    "        time_flow   = time_flow  + dt\n",
    "        x           = delt_work  / dw\n",
    "        delta_eps6  = deps6      * x\n",
    "        reps6       = delta_eps6 / dt\n",
    "        eps6        = eps6       + delta_eps6\n",
    "\n",
    "        ## stamps\n",
    "        strain.append(eps6)\n",
    "        stress.append(sig6)\n",
    "        strain_eq.append(ebar)\n",
    "        stress_eq.append(sig_bar)\n",
    "        strain_rate.append(reps6)\n",
    "        time_stamps.append(time_flow)        \n",
    "\n",
    "        i=i+1\n",
    "\n",
    "    return np.array(strain),np.array(stress),\\\n",
    "           np.array(strain_eq),np.array(stress_eq),\\\n",
    "           np.array(strain_rate), np.array(time_stamps)"
   ]
  },
  {
   "cell_type": "markdown",
   "metadata": {},
   "source": [
    "# Check different types of yield functions "
   ]
  },
  {
   "cell_type": "markdown",
   "metadata": {},
   "source": [
    "Von Mises"
   ]
  },
  {
   "cell_type": "code",
   "execution_count": null,
   "metadata": {
    "collapsed": true
   },
   "outputs": [],
   "source": [
    "from MP.lib import axes_label"
   ]
  },
  {
   "cell_type": "code",
   "execution_count": null,
   "metadata": {
    "collapsed": false
   },
   "outputs": [],
   "source": [
    "sigma_bar = lambda eps: func_har(eps,*hparams)\n",
    "alphs=np.linspace(0.,2.,9)\n",
    "\n",
    "fig=plt.figure(figsize=(11,6))\n",
    "ax1=fig.add_subplot(231)\n",
    "ax2=fig.add_subplot(232)\n",
    "ax3=fig.add_subplot(233)\n",
    "ax4=fig.add_subplot(234)\n",
    "for i in xrange(len(alphs)):\n",
    "    eps6,sig6,ebar,sbar,sr6,times = FLD_A_one_path(\n",
    "        alpha=alphs[i],beta=0.,\n",
    "        func_yld = VonMises,\n",
    "        func_hard = sigma_bar,\n",
    "        ebar_mx=0.1,\n",
    "        delt_ebar=1e-4)\n",
    "\n",
    "    ax1.plot(eps6[:,1],eps6[:,0],'r-')\n",
    "    ax2.plot(sig6[:,1],sig6[:,0],'b-')\n",
    "    ax3.plot(ebar,sbar)\n",
    "    ax4.plot(times,sr6[:,2])\n",
    "    \n",
    "ax2.set_xlim(-50,)\n",
    "ax2.set_ylim(-50.,)\n",
    "\n",
    "\n",
    "ax3.set_xlabel(r'$\\bar{\\epsilon}$',dict(fontsize=15))\n",
    "ax3.set_ylabel(r'$\\bar{\\sigma}$',dict(fontsize=15))\n",
    "\n",
    "ax4.set_xlabel('Time stamps',dict(fontsize=15))\n",
    "ax4.set_ylabel(r'$\\mathrm{\\dot{E}_{33}}$',dict(fontsize=17))\n",
    "\n",
    "\n",
    "\n",
    "ys_tempr(ax2); es_tempr(ax1)\n",
    "fig.tight_layout()"
   ]
  },
  {
   "cell_type": "markdown",
   "metadata": {},
   "source": [
    "Hosford"
   ]
  },
  {
   "cell_type": "code",
   "execution_count": null,
   "metadata": {
    "collapsed": false
   },
   "outputs": [],
   "source": [
    "sigma_bar = lambda eps: func_har(eps,*hparams)\n",
    "alphs=np.linspace(0.,2.,13)\n",
    "\n",
    "fig=plt.figure(figsize=(7,6))\n",
    "ax1=fig.add_subplot(221)\n",
    "ax2=fig.add_subplot(222)\n",
    "ax3=fig.add_subplot(223)\n",
    "for i in xrange(len(alphs)):\n",
    "    eps6,sig6,ebar,sbar,sr6,times = FLD_A_one_path(\n",
    "        alpha=alphs[i],beta=0.,\n",
    "        func_yld = Hosford,\n",
    "        func_hard = sigma_bar,\n",
    "        ebar_mx=0.1,\n",
    "        delt_ebar=1e-4,a=8.)\n",
    "\n",
    "    ax1.plot(eps6[:,1],eps6[:,0],'r-')\n",
    "    ax2.plot(sig6[:,1],sig6[:,0],'b-')\n",
    "    ax3.plot(times,sr6[:,2])\n",
    "    \n",
    "ax2.set_xlim(-50,)\n",
    "ax2.set_ylim(-50.,)\n",
    "ys_tempr(ax2)\n",
    "es_tempr(ax1)\n",
    "fig.tight_layout()"
   ]
  },
  {
   "cell_type": "markdown",
   "metadata": {},
   "source": [
    "Quadratic Hill"
   ]
  },
  {
   "cell_type": "code",
   "execution_count": null,
   "metadata": {
    "collapsed": false
   },
   "outputs": [],
   "source": [
    "sigma_bar = lambda eps: func_har(eps,*hparams)\n",
    "alphs=np.linspace(0.,2.,9)\n",
    "\n",
    "t0=time.time()\n",
    "fig=plt.figure(figsize=(11,6))\n",
    "ax1=fig.add_subplot(231);ax2=fig.add_subplot(232);\n",
    "ax3=fig.add_subplot(233);ax4=fig.add_subplot(234);\n",
    "\n",
    "for i in xrange(len(alphs)):\n",
    "    eps6,sig6,ebar,sbar,sr6,times = FLD_A_one_path(\n",
    "        alpha = alphs[i],beta=0.,\n",
    "        func_yld = QuadHill,\n",
    "        func_hard = sigma_bar,\n",
    "        ebar_mx=0.05,\n",
    "        delt_ebar=1e-4,\n",
    "        R0=0.5, R90=2.0)\n",
    "\n",
    "    ax1.plot(eps6[:,1],eps6[:,0],'r-')\n",
    "    ax2.plot(sig6[:,1],sig6[:,0],'b-')\n",
    "    ax3.plot(ebar,sbar)\n",
    "    ax4.plot(times,sr6[:,2])\n",
    "\n",
    "uet(time.time()-t0,head='Elapsed time for Region A probing')\n",
    "ax2.set_xlim(-50.,); ax2.set_ylim(-50.,)\n",
    "ys_tempr(ax2);es_tempr(ax1);ss_temp(ax3)\n",
    "fig.tight_layout()"
   ]
  },
  {
   "cell_type": "markdown",
   "metadata": {},
   "source": [
    "## Numerical procedure for region B simulations"
   ]
  },
  {
   "cell_type": "markdown",
   "metadata": {},
   "source": [
    "In the DA approach, the tensorial properties are referred to the Cartensian coordinates with basis vectors $\\mathbf{e}^\\mathrm{(nt)}$ attached to $\\mathbf{n}$ and $\\mathbf{t}$ directions.\n",
    "\n",
    "The numerical procedure begins to look at the *compatibility* between regions A and B. For the given incremental step, the incremental strain for region B is initially unknown. Yet, at least two components can be directly obtained by enforcing normal and tangential components of strain.\n",
    "\n",
    "When $\\Delta \\varepsilon^\\mathrm{(A)}_{ij}$ is transformed to $\\Delta \\varepsilon^\\mathrm{(A,grv)}_{ij}$, the incremental strain pertaining to region B for the given incremental step should be written as:\n",
    "\n",
    "$\\Delta \\varepsilon^{\\mathrm{(B,grv)}}_{ij}= \n",
    "  \\begin{bmatrix}\n",
    "    x & \\Delta \\varepsilon^\\mathrm{(A,grv)}_{12}  & 0 \\\\\n",
    "\\Delta \\varepsilon^\\mathrm{(A,grv)}_{12} & \\Delta \\varepsilon^\\mathrm{(A,grv)}_{22}  & 0 \\\\\n",
    "    0 & 0    & -x-\\Delta \\varepsilon^\\mathrm{(A,grv)}_{22}\n",
    "  \\end{bmatrix}\n",
    "  \\mathbf{e}^\\mathrm{(nt)}_i \\otimes \\mathbf{e}^\\mathrm{(nt)}_j$\n",
    "\n",
    "where $x$ is unknown.\n",
    "\n",
    "\n",
    "Some components of the stress tensor are dictated by the force equilibrium such that\n",
    "\n",
    "$\\bar{\\sigma}^{\\mathrm{(B,grv)}}_{ij}= \\frac{1}{f}\n",
    "  \\begin{bmatrix}\n",
    "    \\bar{\\sigma}^\\mathrm{(A,grv)}_{11}  & 0        & 0 \\\\\n",
    "  0   & \\bar{\\sigma}^\\mathrm{(A,grv)}_{22}  & 0 \\\\\n",
    "  0   & 0        & 0 \n",
    "  \\end{bmatrix}                                  \n",
    "  \\mathbf{e}^\\mathrm{(nt)}_i \\otimes \\mathbf{e}^\\mathrm{(nt)}_j.  \n",
    "$"
   ]
  },
  {
   "cell_type": "markdown",
   "metadata": {},
   "source": [
    "At a time stamp, t, the knowns are: \n",
    "\n",
    "$\\mathrm{\\Delta{\\varepsilon_{ij}}^{(A,grv)}, \\Delta{\\bar{\\sigma}^{(A,grv)}}    }$\n",
    "\n",
    "\n",
    "where $\\mathrm{\\bar{\\sigma}_{ij}^{(B,grv)}}$ is known,"
   ]
  },
  {
   "cell_type": "code",
   "execution_count": null,
   "metadata": {
    "collapsed": true
   },
   "outputs": [],
   "source": []
  },
  {
   "cell_type": "code",
   "execution_count": null,
   "metadata": {
    "collapsed": true
   },
   "outputs": [],
   "source": []
  },
  {
   "cell_type": "code",
   "execution_count": null,
   "metadata": {
    "collapsed": false
   },
   "outputs": [],
   "source": [
    "## Given loading history\n",
    "eps6,sig6,ebar,sbar,sr6,times ## given information from Region A\n",
    "func_yld  = QuadHill\n",
    "func_hard = sigma_bar\n",
    "\n",
    "## Direction vectors\n",
    "n    = [1., 0., 0.]; t    = [0., 1., 0.]\n",
    "\n",
    "## MK params.\n",
    "f   = 0.990; psi = 0.\n",
    "\n",
    "## Material cards\n",
    "\n",
    "t0 = time.time()   ## elapsed time\n",
    "t  =0.             ## time stamps\n",
    "\n",
    "eps6_b=np.zeros(6)\n",
    "for i in xrange(len(eps6)):\n",
    "    eps6_a = eps6[i,:]; sig6_a = sig6[i,:]\n",
    "    ebar_a = ebar[i];   sbar_a = sbar[i]\n",
    "    sr6_a  = sr6[i,:]; ## strain-rate\n",
    "\n",
    "    ## time increment\n",
    "    dt     = times[i] - t\n",
    "\n",
    "    ## Time stamps\n",
    "    t = t + dt\n",
    "\n",
    "    \"\"\"\n",
    "    ## force equ\n",
    "    sig_nn_b = sig_nn_a / f\n",
    "    sig_nt_b = sig_nt_a / f\n",
    "    ## Compatibility\n",
    "    eps_nt_b_dot = eps_nt_a_dot\n",
    "    eps_tt_b_dot = eps_tt_a_dot\n",
    "    \"\"\"\n",
    "    sig33_a = s62c(sig6_a)\n",
    "    sig33_a_grv = rot_tensor(sig33_a,psi)\n",
    "    sr33_a = s62c(sr6_a)\n",
    "    sr33_a_grv = rot_tensor(sr33_a,psi)\n",
    "\n",
    "    ## Force equilibrium\n",
    "    sig33_b_grv = np.zeros((3,3))\n",
    "    sig33_b_grv = sig33_a_grv/f\n",
    "    \n",
    "    ## what to be determined:\n",
    "    ## strain increment \n",
    "    ### compatibility\n",
    "    sr33_b_grv = np.zeros((3,3))\n",
    "    sr33_b_grv[0,0]=0. ## unknown\n",
    "    sr33_b_grv[1,1]=sr33_a_grv[1,1]\n",
    "    sr33_b_grv[2,2]=0. ## unknown\n",
    "    sr33_b_grv[0,1]=sr33_a_grv[0,1]\n",
    "    sr33_b_grv[1,0]=sr33_a_grv[1,0]\n",
    "\n",
    "    sr6_b_grv = c2s6(sr33_b_g)\n",
    "    \n",
    "    \n",
    "    \n",
    "    ## inhomogenity evolution\n",
    "    ## Band rotation\n",
    "\n",
    "uet(time.time()-t0,head='Elapsed time for FLDB calculation')"
   ]
  },
  {
   "cell_type": "code",
   "execution_count": null,
   "metadata": {
    "collapsed": true
   },
   "outputs": [],
   "source": []
  }
 ],
 "metadata": {
  "kernelspec": {
   "display_name": "Python 2",
   "language": "python",
   "name": "python2"
  },
  "language_info": {
   "codemirror_mode": {
    "name": "ipython",
    "version": 2
   },
   "file_extension": ".py",
   "mimetype": "text/x-python",
   "name": "python",
   "nbconvert_exporter": "python",
   "pygments_lexer": "ipython2",
   "version": "2.7.11"
  }
 },
 "nbformat": 4,
 "nbformat_minor": 0
}
