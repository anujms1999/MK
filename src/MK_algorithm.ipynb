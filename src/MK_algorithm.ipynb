{
 "cells": [
  {
   "cell_type": "markdown",
   "metadata": {},
   "source": [
    "Based on a paper of F. Barlat"
   ]
  },
  {
   "cell_type": "code",
   "execution_count": null,
   "metadata": {
    "collapsed": false
   },
   "outputs": [],
   "source": [
    "%pylab inline\n",
    "import time\n",
    "import lib;reload(lib)\n",
    "from lib import *\n",
    "import yf;reload(yf)\n",
    "from yf import *\n",
    "import func_hard; reload(func_hard)\n",
    "from func_hard import *\n",
    "from MP import progress_bar\n",
    "uet = progress_bar.update_elapsed_time\n",
    "import multiprocessing\n",
    "from multiprocessing import Pool\n",
    "from scipy import optimize"
   ]
  },
  {
   "cell_type": "code",
   "execution_count": null,
   "metadata": {
    "collapsed": false
   },
   "outputs": [],
   "source": [
    "xdata,ydata=np.loadtxt('/Users/yj/Documents/ExpDat/IFSteel/Bulge/EXP_BULGE_JINKIM.txt').T\n",
    "hparams,dum=optimize.curve_fit(f=func_swift,xdata=xdata,ydata=ydata)\n",
    "eps_bar = np.linspace(0,1.,100)\n",
    "sig_bar = func_swift(eps_bar,*hparams)\n",
    "plot(eps_bar,sig_bar)\n",
    "plot(xdata[::20],ydata[::20],'rx')\n",
    "print hparams"
   ]
  },
  {
   "cell_type": "code",
   "execution_count": null,
   "metadata": {
    "collapsed": false
   },
   "outputs": [],
   "source": [
    "## Material card\n",
    "func_har = func_swift\n",
    "func_ptn = VonMises\n",
    "func_yld = VonMises ## Associated Flow Rule\n",
    "eqv_eps  = VonMisesE\n",
    "##\n",
    "\n",
    "sigma_bar = lambda eps: func_har(eps,*hparams)\n",
    "eps_bar   = np.linspace(0,1.5,1000)\n",
    "\n",
    "#fig=plt.figure(figsize=(3.5,3));ax=gca()\n",
    "#ax.plot(eps_bar,sigma_bar(eps_bar))\n",
    "#ax.set_xlabel(r'Strain $\\bar{\\varepsilon}$')\n",
    "#ax.set_ylabel(r'Stress $\\bar{\\sigma}$')\n",
    "\n",
    "# region A simulations - fairly straight forward.\n",
    "#d_time = 1e-4 ## time increment.\n",
    "#sr     = 1e-3 ## major component\n",
    "delt_ebar = 1e-3 ## incremental step for the hardening curve.\n",
    "alpha  = 1.0   ## BB\n",
    "beta   = 0.0   ## No shear\n",
    "\n",
    "## at the time=0?\n",
    "eps_mx = 0.05\n",
    "eps6=np.zeros(6)\n",
    "ebar = 0.\n",
    "fig=plt.figure(figsize=(11,3))\n",
    "ax1=fig.add_subplot(131)\n",
    "ax2=fig.add_subplot(132)\n",
    "ax3=fig.add_subplot(133)\n",
    "i=0\n",
    "while (ebar<eps_mx):\n",
    "    ebar      = ebar + delt_ebar\n",
    "    sig_bar   = sigma_bar(ebar)\n",
    "    ax3.plot(ebar,sig_bar,'k.')\n",
    "    delt_work = delt_ebar * sig_bar\n",
    "    \n",
    "    ## Current stress tensor \"direction\"\n",
    "    sig_norm6 = alph2sig6(alpha,beta)\n",
    "    sig_norm6 = sig_norm6/func_yld(sig_norm6) ## equivalent stress state\n",
    "    sig6      = sig_norm6*sig_bar\n",
    "\n",
    "    ## Current strain rate tensor direction.\n",
    "    deps6 = alph2eps(alpha,beta,func_ptn)  \n",
    "    ## Correct deps6 magnitude by conjugating the incremental work\n",
    "    dw = 0.\n",
    "    for j in xrange(3):\n",
    "        dw = dw + deps6[j]*sig6[j]\n",
    "        dw = dw + 2*deps6[j+3]*sig6[j+3]\n",
    "    x     = delt_work/dw\n",
    "    deps6 = deps6*x\n",
    "    eps6  = eps6 + deps6\n",
    "\n",
    "    ax1.plot(sig6[0],sig6[1],'k.')\n",
    "    ax2.plot(eps6[0],eps6[1],'k.')\n",
    "    \n",
    "    if i==0: ## draw yield locus\n",
    "        loc1,loc2=y_locus(100,func_yld)\n",
    "        loc1=loc1*sig_bar\n",
    "        ax1.plot(loc1[0],loc1[1])\n",
    "    i=i+1\n",
    "\n",
    "ys_temp(ax1)\n",
    "es_temp(ax2)\n",
    "ss_temp(ax3)\n",
    "ax2.grid('on')\n",
    "ax1.set_xlim(0.,)\n",
    "ax1.set_ylim(0.,)\n",
    "fig.tight_layout()\n",
    "\n",
    "fig.savefig('mk_algorithm.pdf',bbox_inches='tight')"
   ]
  },
  {
   "cell_type": "code",
   "execution_count": null,
   "metadata": {
    "collapsed": false
   },
   "outputs": [],
   "source": [
    "## Functionize the above\n",
    "def FLD_A_one_path(alpha=1.0,beta=0.,\n",
    "                   func_har = func_swift,\n",
    "                   func_yld = VonMises,\n",
    "                   func_hard = None,\n",
    "                   ebar_mx=0.1,\n",
    "                   delt_ebar=1e-4,\n",
    "                   **yld_kwargs):\n",
    "    \"\"\"\n",
    "    \"\"\"\n",
    "    eps6=np.zeros(6)\n",
    "    ebar=0.\n",
    "    i=0\n",
    "    strain=[]\n",
    "    stress=[]\n",
    "    strain_eq=[]\n",
    "    stress_eq=[]\n",
    "    while (ebar<ebar_mx):\n",
    "        ebar      = ebar + delt_ebar\n",
    "        sig_bar   = func_hard(ebar)\n",
    "        strain_eq.append(ebar)\n",
    "        stress_eq.append(sig_bar)\n",
    "        delt_work = delt_ebar * sig_bar\n",
    "    \n",
    "        if i==0: ## when initial anisotropy is considered (constant shape Yield Surface)\n",
    "            ## Stress vector direction\n",
    "            sig_norm6 = alph2sig6(alpha,beta)\n",
    "            sig_norm6 = sig_norm6/func_yld(sig_norm6,**yld_kwargs) ## equivalent stress state\n",
    "            ## Strains vector direction.\n",
    "            deps6 = alph2eps(alpha,beta,func_yld,**yld_kwargs)  \n",
    "        \n",
    "        sig6      = sig_norm6*sig_bar\n",
    "        ## Correct deps6 magnitude by conjugating the incremental work\n",
    "        dw = 0.\n",
    "        for j in xrange(3):\n",
    "            dw = dw + deps6[j]*sig6[j]\n",
    "            dw = dw + 2*deps6[j+3]*sig6[j+3]\n",
    "        \n",
    "        x     = delt_work/dw\n",
    "        temp  = deps6*x\n",
    "        eps6  = eps6 + temp\n",
    "        \n",
    "        i=i+1\n",
    "        \n",
    "        strain.append(eps6)\n",
    "        stress.append(sig6)\n",
    "        \n",
    "    return np.array(strain),np.array(stress),np.array(strain_eq),np.array(stress_eq)"
   ]
  },
  {
   "cell_type": "markdown",
   "metadata": {},
   "source": [
    "# Check different types of yield functions "
   ]
  },
  {
   "cell_type": "markdown",
   "metadata": {},
   "source": [
    "Von Mises"
   ]
  },
  {
   "cell_type": "code",
   "execution_count": null,
   "metadata": {
    "collapsed": false
   },
   "outputs": [],
   "source": [
    "sigma_bar = lambda eps: func_har(eps,*hparams)\n",
    "alphs=np.linspace(0.,2.,10)\n",
    "\n",
    "fig=plt.figure(figsize=(10,3))\n",
    "ax1=fig.add_subplot(131)\n",
    "ax2=fig.add_subplot(132)\n",
    "ax3=fig.add_subplot(133)\n",
    "for i in xrange(len(alphs)):\n",
    "    eps6,sig6,ebar,sbar = FLD_A_one_path(\n",
    "        alpha=alphs[i],beta=0.,\n",
    "        func_har = func_swift,\n",
    "        func_yld = VonMises,\n",
    "        func_hard = sigma_bar,\n",
    "        ebar_mx=0.1,\n",
    "        delt_ebar=1e-4)\n",
    "\n",
    "    ax1.plot(eps6[:,1],eps6[:,0],'r-')\n",
    "    ax2.plot(sig6[:,1],sig6[:,0],'b-')\n",
    "    ax3.plot(ebar,sbar)\n",
    "    \n",
    "ax2.set_xlim(-50,)\n",
    "ax2.set_ylim(-50.,)\n",
    "ys_tempr(ax1)\n",
    "es_tempr(ax2)\n",
    "fig.tight_layout()"
   ]
  },
  {
   "cell_type": "markdown",
   "metadata": {},
   "source": [
    "Hosford"
   ]
  },
  {
   "cell_type": "code",
   "execution_count": null,
   "metadata": {
    "collapsed": false
   },
   "outputs": [],
   "source": [
    "sigma_bar = lambda eps: func_har(eps,*hparams)\n",
    "alphs=np.linspace(0.,2.,10)\n",
    "\n",
    "fig=plt.figure(figsize=(7,3))\n",
    "ax1=fig.add_subplot(121)\n",
    "ax2=fig.add_subplot(122)\n",
    "for i in xrange(len(alphs)):\n",
    "    eps6,sig6,ebar,sbar = FLD_A_one_path(\n",
    "        alpha=alphs[i],beta=0.,\n",
    "        func_har = func_swift,\n",
    "        func_yld = Hosford,\n",
    "        func_hard = sigma_bar,\n",
    "        ebar_mx=0.1,\n",
    "        delt_ebar=1e-4,a=6.)\n",
    "\n",
    "    ax1.plot(eps6[:,1],eps6[:,0],'r-')\n",
    "    ax2.plot(sig6[:,1],sig6[:,0],'b-')\n",
    "    \n",
    "ax2.set_xlim(-50,)\n",
    "ax2.set_ylim(-50.,)\n",
    "ys_tempr(ax1)\n",
    "es_tempr(ax2)\n",
    "fig.tight_layout()"
   ]
  },
  {
   "cell_type": "markdown",
   "metadata": {},
   "source": [
    "Quadratic Hill"
   ]
  },
  {
   "cell_type": "code",
   "execution_count": null,
   "metadata": {
    "collapsed": false
   },
   "outputs": [],
   "source": [
    "sigma_bar = lambda eps: func_har(eps,*hparams)\n",
    "alphs=np.linspace(0.,2.,10)\n",
    "\n",
    "t0=time.time()\n",
    "\n",
    "fig=plt.figure(figsize=(11,3))\n",
    "ax1=fig.add_subplot(131)\n",
    "ax2=fig.add_subplot(132)\n",
    "ax3=fig.add_subplot(133)\n",
    "for i in xrange(len(alphs)):\n",
    "    eps6,sig6,ebar,sbar = FLD_A_one_path(\n",
    "        alpha=alphs[i],beta=0.,\n",
    "        func_har = func_swift,\n",
    "        func_yld = QuadHill,\n",
    "        func_hard = sigma_bar,\n",
    "        ebar_mx=1.0,\n",
    "        delt_ebar=1e-4,\n",
    "        R0=0.5, R90=2.)\n",
    "\n",
    "    ax1.plot(eps6[:,1],eps6[:,0],'r-')\n",
    "    ax2.plot(sig6[:,1],sig6[:,0],'b-')\n",
    "    ax3.plot(ebar,sbar)\n",
    "\n",
    "uet(time.time()-t0,head='Elapsed time for Region A probing')\n",
    "\n",
    "ax2.set_xlim(-50.,); ax2.set_ylim(-50.,)\n",
    "ys_tempr(ax1); es_tempr(ax2)\n",
    "fig.tight_layout()"
   ]
  }
 ],
 "metadata": {
  "kernelspec": {
   "display_name": "Python 2",
   "language": "python",
   "name": "python2"
  },
  "language_info": {
   "codemirror_mode": {
    "name": "ipython",
    "version": 2
   },
   "file_extension": ".py",
   "mimetype": "text/x-python",
   "name": "python",
   "nbconvert_exporter": "python",
   "pygments_lexer": "ipython2",
   "version": "2.7.11"
  }
 },
 "nbformat": 4,
 "nbformat_minor": 0
}
