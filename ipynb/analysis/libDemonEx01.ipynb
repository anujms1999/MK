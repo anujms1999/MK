{
 "cells": [
  {
   "cell_type": "markdown",
   "metadata": {},
   "source": [
    "### Analysis on MK data tar file collected using mk_run_ex.sh file"
   ]
  },
  {
   "cell_type": "markdown",
   "metadata": {},
   "source": [
    "- preparation"
   ]
  },
  {
   "cell_type": "code",
   "execution_count": 1,
   "metadata": {
    "collapsed": false
   },
   "outputs": [
    {
     "data": {
      "text/plain": [
       "u'/Users/yj/repo/mk/ipynb/analysis'"
      ]
     },
     "execution_count": 1,
     "metadata": {},
     "output_type": "execute_result"
    }
   ],
   "source": [
    "pwd"
   ]
  },
  {
   "cell_type": "code",
   "execution_count": 2,
   "metadata": {
    "collapsed": false
   },
   "outputs": [
    {
     "name": "stdout",
     "output_type": "stream",
     "text": [
      "Populating the interactive namespace from numpy and matplotlib\n"
     ]
    }
   ],
   "source": [
    "%pylab inline"
   ]
  },
  {
   "cell_type": "code",
   "execution_count": 3,
   "metadata": {
    "collapsed": true
   },
   "outputs": [],
   "source": [
    "import os, glob, subprocess, tarfile, dill, shutil,MP\n",
    "import MP.lib.temp"
   ]
  },
  {
   "cell_type": "code",
   "execution_count": 4,
   "metadata": {
    "collapsed": false
   },
   "outputs": [
    {
     "name": "stdout",
     "output_type": "stream",
     "text": [
      "#!/bin/bash\n",
      "cd /Users/yj/repo/mk/ipynb/analysis\n",
      "bash rsyncFromPal.sh\n",
      "cd -\n"
     ]
    }
   ],
   "source": [
    "fnRsync=MP.lib.temp.gen_tempfile()\n",
    "cwd=os.getcwd()\n",
    "runRsync=\"\"\"#!/bin/bash\n",
    "cd %s\n",
    "bash rsyncFromPal.sh\n",
    "cd -\"\"\"%cwd\n",
    "print runRsync\n",
    "with open(fnRsync,'w') as fo:\n",
    "    fo.write(runRsync)\n",
    "    fo.write('\\n')\n",
    "rst=subprocess.check_output(['bash',fnRsync])"
   ]
  },
  {
   "cell_type": "code",
   "execution_count": 5,
   "metadata": {
    "collapsed": false
   },
   "outputs": [
    {
     "data": {
      "text/plain": [
       "'/tmp/ynj/-e2b504-.txt'"
      ]
     },
     "execution_count": 5,
     "metadata": {},
     "output_type": "execute_result"
    }
   ],
   "source": [
    "fnRsync"
   ]
  },
  {
   "cell_type": "code",
   "execution_count": 6,
   "metadata": {
    "collapsed": false
   },
   "outputs": [
    {
     "name": "stdout",
     "output_type": "stream",
     "text": [
      "../../\r\n",
      "|-- archive\r\n",
      "|-- build\r\n",
      "|   |-- lib\r\n",
      "|   |   `-- mk\r\n",
      "|   |       |-- library\r\n",
      "|   |       |-- materials\r\n",
      "|   |       |-- tests\r\n",
      "|   |       `-- yieldFunction\r\n",
      "|   |-- lib.macosx-10.5-x86_64-2.7\r\n",
      "|   |   `-- yf_for.so.dSYM\r\n",
      "|   |       `-- Contents\r\n",
      "|   |           `-- Resources\r\n",
      "|   |               `-- DWARF\r\n",
      "|   |-- src.macosx-10.5-x86_64-2.7\r\n",
      "|   `-- temp.macosx-10.5-x86_64-2.7\r\n",
      "|       |-- build\r\n",
      "|       |   `-- src.macosx-10.5-x86_64-2.7\r\n",
      "|       `-- fortran\r\n",
      "|-- docs\r\n",
      "|-- fortran\r\n",
      "|-- ipynb\r\n",
      "|   `-- analysis\r\n",
      "|-- man\r\n",
      "|   `-- _region_.prv\r\n",
      "|-- matDatabase\r\n",
      "|   `-- IFsteel\r\n",
      "|-- mk\r\n",
      "|   |-- bin\r\n",
      "|   |-- library\r\n",
      "|   |-- materials\r\n",
      "|   |-- tests\r\n",
      "|   |-- tool\r\n",
      "|   `-- yieldFunction\r\n",
      "|       `-- _region_.prv\r\n",
      "|           `-- tmp6243nji\r\n",
      "`-- tests\r\n",
      "\r\n",
      "36 directories\r\n"
     ]
    }
   ],
   "source": [
    "!tree ../../ -d "
   ]
  },
  {
   "cell_type": "code",
   "execution_count": 7,
   "metadata": {
    "collapsed": false
   },
   "outputs": [
    {
     "name": "stdout",
     "output_type": "stream",
     "text": [
      " 1704 -rw-r--r--  1 yj  admin   870400 Aug  8 17:49 MKVARHARD_0.996_20160808-1749-1c05b3-.tar\r\n",
      " 1704 -rw-r--r--  1 yj  admin   870400 Aug  8 17:49 MKVARHARD_0.994_20160808-1749-9fec8e-.tar\r\n",
      " 1704 -rw-r--r--  1 yj  admin   870400 Aug  8 17:54 MKVARHARD_0.992_20160808-1753-420a16-.tar\r\n",
      " 9144 -rw-r--r--  1 yj  admin  4679680 Aug  9 07:11 MKVARHARD_0.998_20160809-0711-d6e0bf-.tar\r\n",
      " 9464 -rw-r--r--  1 yj  admin  4843520 Aug  9 09:00 MKVARHARD_0.996_20160809-0900-d424bf-.tar\r\n"
     ]
    }
   ],
   "source": [
    "ls -lstr ../../archive/ |tail -n 5"
   ]
  },
  {
   "cell_type": "code",
   "execution_count": 8,
   "metadata": {
    "collapsed": false
   },
   "outputs": [
    {
     "name": "stdout",
     "output_type": "stream",
     "text": [
      "../../archive/MKVARHARD_0.996_20160809-0900-d424bf-.tar\n",
      "../../archive/MKVARHARD_0.998_20160809-0711-d6e0bf-.tar\n"
     ]
    }
   ],
   "source": [
    "## VPSC \n",
    "# fns_master=glob.glob('MKVPSCHARD_*_20160806*.tar')\n",
    "## MK\n",
    "# fns_master=glob.glob('mk_*_20160730*.tar')\n",
    "## VPSC-MK - 20160808\n",
    "# fns_master = ['MKVPSCHARD_0.996_20160808-0115-1ff82a-.tar']\n",
    "# fns_master = glob.glob('MKVPSCHARD_0.9??_20160808-12*.tar')\n",
    "# fns_master = glob.glob('MKVPSCHARD_0.9??_20160808-15*.tar') ## VPSC hardening \n",
    "# fns_master=glob.glob('../../archive/MKVARHARD_0.9??_20160808-17??-*.tar')\n",
    "\n",
    "fns_master=glob.glob('../../archive/MKVARHARD_0.9??_20160809-0???-*.tar')\n",
    "\n",
    "fns_master.sort()\n",
    "for i in xrange(len(fns_master)):\n",
    "    print fns_master[i]\n",
    "\n",
    "# subprocess.check_call(['tar','-tf',fn])\n",
    "# members = subprocess.check_output(['tar','-tf',fns_master[0]]).split()"
   ]
  },
  {
   "cell_type": "code",
   "execution_count": 9,
   "metadata": {
    "collapsed": true
   },
   "outputs": [],
   "source": [
    "def loadFLDmin(fn='minFLD.txt'):\n",
    "    dat=np.loadtxt(fn,dtype='str').T\n",
    "    if len(dat)==0:\n",
    "        ## no results found in minFLD.txt\n",
    "        a=np.zeros((9,1))\n",
    "        a[::]=np.nan\n",
    "    else:\n",
    "        a=np.array(dat[:9],dtype='float')\n",
    "    # exx,eyy,thi,thf,sx,sy,sigbar,epsbar,dt=dat[:9]\n",
    "    return a"
   ]
  },
  {
   "cell_type": "code",
   "execution_count": 10,
   "metadata": {
    "collapsed": false
   },
   "outputs": [],
   "source": [
    "class member:\n",
    "    def __init__(self,fn=None):\n",
    "        \"\"\"\n",
    "        Argument\n",
    "        --------\n",
    "        fn\n",
    "        \"\"\"\n",
    "        self.fn = fn\n",
    "        ## check the rule.\n",
    "        eps_eq, yflab, hflab, path, f0 =  self.fn.split('_')[1:6]\n",
    "\n",
    "        self.eps_eq = float(eps_eq)\n",
    "        self.yflab  = yflab\n",
    "        self.hflab  = hflab\n",
    "        self.hardpath = path\n",
    "        self.f0       = float(f0)\n",
    "\n",
    "        ## \n",
    "        cmd = ['tar','-tf',self.fn]\n",
    "        self.members=subprocess.check_output(cmd).split('\\n')[:-1]\n",
    "        self.members.sort()\n",
    "        self.fldfn=self.members[1]\n",
    "\n",
    "        ## find out min file\n",
    "        cmd=['tar','-xf',self.fn, self.fldfn]\n",
    "        if subprocess.check_call(cmd)!=0:\n",
    "            raise IOError\n",
    "        exx,eyy,thi,thf,sx,sy,sigbar,epsbar,dt = loadFLDmin(self.fldfn)\n",
    "        \n",
    "        ths = np.arctan2(eyy,exx)##TD,RD\n",
    "        rad = np.sqrt(exx**2+eyy**2)\n",
    "        \n",
    "        os.remove(self.fldfn)\n",
    "        self.flc = np.array([exx,eyy])\n",
    "\n",
    "class EachMK: ## for each MKVPSCHARD file (fixed f0 value)\n",
    "    def __init__(self,fn):\n",
    "        cmd=['tar','-tf',fn]\n",
    "        self.fns_member = subprocess.check_output(cmd).split()        \n",
    "        self.members=[]\n",
    "        self.nmem = len(self.fns_member)\n",
    "\n",
    "        self.eps_eqs = []\n",
    "        self.yflabs  = []\n",
    "        self.hflabs  = []\n",
    "        self.hardpaths = []\n",
    "        self.f0s       = []\n",
    "        \n",
    "        inds = np.zeros((len(self.fns_member),4))\n",
    "        \n",
    "        for i in xrange(len(self.fns_member)): ## 1d to (w,x,y,z)\n",
    "            subprocess.check_call(['tar','-xf',fn,self.fns_member[i]])\n",
    "            self.members.append(member(fn = self.fns_member[i]))\n",
    "            \n",
    "            if not(self.members[i].eps_eq in self.eps_eqs):\n",
    "                self.eps_eqs.append(self.members[i].eps_eq)\n",
    "            if not(self.members[i].yflab in self.yflabs):\n",
    "                self.yflabs.append(self.members[i].yflab)\n",
    "            if not(self.members[i].hflab in self.hflabs):\n",
    "                self.hflabs.append(self.members[i].hflab)\n",
    "            if not(self.members[i].hardpath in self.hardpaths):\n",
    "                self.hardpaths.append(self.members[i].hardpath)\n",
    "            if not(self.members[i].f0 in self.f0s):\n",
    "                self.f0s.append(self.members[i].f0)\n",
    "            os.remove(self.fns_member[i])\n",
    "\n",
    "        w, x, y, z = self.yflabs, self.hflabs, self.hardpaths, self.eps_eqs\n",
    "\n",
    "    def find_mem(self,iyf,ihf,ipath,ieps,verbose):\n",
    "        \"\"\"\n",
    "        Arguments\n",
    "        ---------\n",
    "        iyf\n",
    "        ihf\n",
    "        ipath\n",
    "        ieps\n",
    "        verbose\n",
    "        \"\"\"\n",
    "        yfl = self.yflabs[iyf]\n",
    "        hfl = self.hflabs[ihf]\n",
    "        hpt = self.hardpaths[ipath]\n",
    "        eps = self.eps_eqs[ieps]\n",
    "        \n",
    "        if verbose:\n",
    "            print 'yf lab:', yfl\n",
    "            print 'hf lab:', hfl\n",
    "            print 'hpt   :', hpt\n",
    "            print 'eps   :', eps\n",
    "        \n",
    "        ind=-1\n",
    "        for i in xrange(len(self.members)):\n",
    "            eachMem=self.members[i]\n",
    "            if eachMem.yflab==yfl and eachMem.hflab==hfl \\\n",
    "               and eachMem.hardpath==hpt and eachMem.eps_eq==eps:\n",
    "                ind=i;break\n",
    "                    \n",
    "        if ind==-1: raise IOError\n",
    "                    \n",
    "        return ind, yfl, hfl, hpt, eps\n",
    "        ## find out in what dimension the FLD data are."
   ]
  },
  {
   "cell_type": "markdown",
   "metadata": {},
   "source": [
    "- class that finds the best f0 value for the given condition"
   ]
  },
  {
   "cell_type": "code",
   "execution_count": 11,
   "metadata": {
    "collapsed": false
   },
   "outputs": [],
   "source": [
    "class master:\n",
    "    def __init__(self,fns):\n",
    "        self.eachMKs=[]\n",
    "        for i in xrange(len(fns)):\n",
    "            self.eachMKs.append(EachMK(fns[i]))\n",
    "        self.eachMKs=np.array(self.eachMKs)\n",
    "        self.get_exp()\n",
    "        \n",
    "    def get_exp(self,fn='/Users/yj/repo/vpsc/vpsc-dev-fld/ipynb/FLD/IFsteel_EXP/FLDexp.dill'):\n",
    "        with open(fn,'r') as fo:\n",
    "            self.exp_FLC=dill.load(fo)\n",
    "            \n",
    "    def compareFit_ind(self,iyf=0,ihf=0,ipath=0,ieps=0,iplot=False):\n",
    "        \"\"\"\n",
    "        Find best f0 value for each by plotting them.\n",
    "        \n",
    "        Arguments\n",
    "        ---------\n",
    "        iyf\n",
    "        ihf\n",
    "        ipath\n",
    "        ieps\n",
    "        iplot\n",
    "        \"\"\"\n",
    "        inds=[]\n",
    "        collectionMK=[]\n",
    "        collectionMK_fn=[]\n",
    "        for i in xrange(len(self.eachMKs)): ## each f0s\n",
    "            each = self.eachMKs[i]\n",
    "            if i==0: verbose=True\n",
    "            else:    verbose=False\n",
    "            ind, yfl, hfl, hpt, eps = each.find_mem(iyf,ihf,ipath,ieps,verbose)\n",
    "            self.eachMKs[i].members[ind].flc\n",
    "            inds.append(ind)\n",
    "            collectionMK.append(self.eachMKs[i].members[ind])\n",
    "            collectionMK_fn.append(self.eachMKs[i].members[ind].fldfn)\n",
    "\n",
    "        if iplot:\n",
    "            fig=plt.figure(); ax=fig.add_subplot(111)            \n",
    "            y,x,yerr,xerr = self.exp_FLC[:,0],self.exp_FLC[:,1],\\\n",
    "                            self.exp_FLC[:,2],self.exp_FLC[:,3]\n",
    "            ax.errorbar(x=x,y=y,xerr=xerr,yerr=yerr,marker='None',ls='None')\n",
    "            ax.set_aspect('equal')\n",
    "            ax.set_xlabel(r'$\\mathrm{\\bar{E}_{22}}$',fontsize=14)\n",
    "            ax.set_ylabel(r'$\\mathrm{\\bar{E}_{11}}$',fontsize=14)\n",
    "            ax.set_title('%s %s %s %.2f'%(yfl,hfl,hpt,eps))\n",
    "            \n",
    "            for i in xrange(len(collectionMK)):\n",
    "                dat=collectionMK[i].flc\n",
    "                f0 = collectionMK[i].f0\n",
    "                ax.plot(dat[0],dat[1],label=f0)\n",
    "                print 'fld file name:',collectionMK_fn[i]\n",
    "                \n",
    "            ax.grid('on')\n",
    "            ax.legend()\n",
    "        return collectionMK"
   ]
  },
  {
   "cell_type": "code",
   "execution_count": 12,
   "metadata": {
    "collapsed": false
   },
   "outputs": [
    {
     "name": "stdout",
     "output_type": "stream",
     "text": [
      "CPU times: user 7 µs, sys: 3 µs, total: 10 µs\n",
      "Wall time: 16 µs\n"
     ]
    },
    {
     "name": "stderr",
     "output_type": "stream",
     "text": [
      "/Users/yj/anaconda/lib/python2.7/site-packages/numpy/lib/npyio.py:893: UserWarning: loadtxt: Empty input file: \"minFLD-eb4ff2.txt\"\n",
      "  warnings.warn('loadtxt: Empty input file: \"%s\"' % fname)\n"
     ]
    }
   ],
   "source": [
    "# %%timeit\n",
    "%time\n",
    "myMaster=master(fns_master)"
   ]
  },
  {
   "cell_type": "code",
   "execution_count": 13,
   "metadata": {
    "collapsed": false
   },
   "outputs": [
    {
     "name": "stdout",
     "output_type": "stream",
     "text": [
      "yf lab: H48R\n",
      "hf lab: Swift\n",
      "hpt   : U\n",
      "eps   : 0.01\n",
      "fld file name: minFLD-8684b6.txt\n",
      "fld file name: minFLD-e2400c.txt\n"
     ]
    },
    {
     "data": {
      "text/plain": [
       "[<__main__.member instance at 0x105ef2248>,\n",
       " <__main__.member instance at 0x105f08cb0>]"
      ]
     },
     "execution_count": 13,
     "metadata": {},
     "output_type": "execute_result"
    },
    {
     "data": {
      "image/png": "[encoded data removed]",
      "text/plain": [
       "<matplotlib.figure.Figure at 0x105f43550>"
      ]
     },
     "metadata": {},
     "output_type": "display_data"
    }
   ],
   "source": [
    "myMaster.compareFit_ind(iyf=0,ihf=0,ipath=0,ieps=0,iplot=True)"
   ]
  }
 ],
 "metadata": {
  "kernelspec": {
   "display_name": "Python 2",
   "language": "python",
   "name": "python2"
  },
  "language_info": {
   "codemirror_mode": {
    "name": "ipython",
    "version": 2
   },
   "file_extension": ".py",
   "mimetype": "text/x-python",
   "name": "python",
   "nbconvert_exporter": "python",
   "pygments_lexer": "ipython2",
   "version": "2.7.11"
  }
 },
 "nbformat": 4,
 "nbformat_minor": 1
}
