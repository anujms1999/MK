{
 "cells": [
  {
   "cell_type": "markdown",
   "metadata": {},
   "source": [
    "### Analysis on MK data tar file collected using mk_run_ex.sh file"
   ]
  },
  {
   "cell_type": "markdown",
   "metadata": {},
   "source": [
    "- preparation"
   ]
  },
  {
   "cell_type": "code",
   "execution_count": 1,
   "metadata": {
    "collapsed": false
   },
   "outputs": [
    {
     "data": {
      "text/plain": [
       "u'/Users/yj/repo/mk/ipynb/analysis'"
      ]
     },
     "execution_count": 1,
     "metadata": {},
     "output_type": "execute_result"
    }
   ],
   "source": [
    "pwd"
   ]
  },
  {
   "cell_type": "code",
   "execution_count": 2,
   "metadata": {
    "collapsed": false
   },
   "outputs": [
    {
     "name": "stdout",
     "output_type": "stream",
     "text": [
      "Populating the interactive namespace from numpy and matplotlib\n"
     ]
    }
   ],
   "source": [
    "%pylab inline"
   ]
  },
  {
   "cell_type": "code",
   "execution_count": 3,
   "metadata": {
    "collapsed": false
   },
   "outputs": [
    {
     "data": {
      "text/plain": [
       "<module 'lib' from 'lib.pyc'>"
      ]
     },
     "execution_count": 3,
     "metadata": {},
     "output_type": "execute_result"
    }
   ],
   "source": [
    "# import os, glob, subprocess, tarfile, dill, shutil,MP\n",
    "# import MP.lib.temp\n",
    "# import lib\n",
    "import lib,glob\n",
    "import MP.lib.mpl_lib\n",
    "reload(lib)"
   ]
  },
  {
   "cell_type": "code",
   "execution_count": 4,
   "metadata": {
    "collapsed": false
   },
   "outputs": [
    {
     "name": "stdout",
     "output_type": "stream",
     "text": [
      "#!/bin/bash\n",
      "    cd ~/repo/mk/archive\n",
      "    bash rsyncFromPal.sh\n",
      "    cd -\n"
     ]
    }
   ],
   "source": [
    "lib.syncArchiveFromPal()"
   ]
  },
  {
   "cell_type": "code",
   "execution_count": 18,
   "metadata": {
    "collapsed": false
   },
   "outputs": [
    {
     "name": "stdout",
     "output_type": "stream",
     "text": [
      "../../\n",
      "|-- archive\n",
      "|   |-- MKVARHARD_0.990_20160810-0606-4beb26-\n",
      "|   |   |-- mk_0.0100_H48R_Voce_U_0.990_-796b34-\n",
      "|   |   |-- mk_0.0100_Yld1_Voce_U_0.990_-a118fe-\n",
      "|   |   |-- mk_0.1500_H48R_Voce_U_0.990_-7393a4-\n",
      "|   |   `-- mk_0.1500_Yld2_Voce_U_0.990_-74abca-\n",
      "|   `-- MKVARHARD_0.998_20160810-0231-e0006a-\n",
      "|       |-- mk_0.0100_H48R_Voce_U_0.998_-e6ce99-\n",
      "|       |-- mk_0.0100_H48R_Voce_U_0.998_-e6ce99-\\ 2\n",
      "\n",
      "********************************\n",
      "Find recently added tar files from Palmetto\n",
      "********************************\n",
      "\n",
      " 2240 -rw-r--r--  1 yj  admin  1146880 Aug  8 12:03 ../../archive/MKVPSCHARD_0.992_20160808-1203-458f3b-.tar\n",
      " 2240 -rw-r--r--  1 yj  admin  1146880 Aug  8 12:03 ../../archive/MKVPSCHARD_0.990_20160808-1203-467f2f-.tar\n",
      " 2240 -rw-r--r--  1 yj  admin  1146880 Aug  8 12:04 ../../archive/MKVPSCHARD_0.994_20160808-1204-d93c0a-.tar\n",
      " 2240 -rw-r--r--  1 yj  admin  1146880 Aug  8 12:09 ../../archive/MKVPSCHARD_0.985_20160808-1209-a80a6a-.tar\n",
      " 2240 -rw-r--r--  1 yj  admin  1146880 Aug  8 12:11 ../../archive/MKVPSCHARD_0.996_20160808-1211-1c5bc0-.tar\n",
      " 2240 -rw-r--r--  1 yj  admin  1146880 Aug  8 12:18 ../../archive/MKVPSCHARD_0.980_20160808-1218-6de698-.tar\n",
      " 2840 -rw-r--r--  1 yj  admin  1454080 Aug  8 15:26 ../../archive/MKVPSCHARD_0.994_20160808-1526-2e4376-.tar\n",
      " 2840 -rw-r--r--  1 yj  admin  1454080 Aug  8 15:26 ../../archive/MKVPSCHARD_0.998_20160808-1526-500966-.tar\n",
      " 2840 -rw-r--r--  1 yj  admin  1454080 Aug  8 15:36 ../../archive/MKVPSCHARD_0.996_20160808-1536-0674d8-.tar\n",
      " 3240 -rw-r--r--  1 yj  admin  1658880 Aug  9 18:05 ../../archive/MKVPSCHARD_0.998_20160809-1805-84a3c5-.tar\n",
      " 3240 -rw-r--r--  1 yj  admin  1658880 Aug  9 18:23 ../../archive/MKVPSCHARD_0.996_20160809-1823-962e07-.tar\n",
      " 3240 -rw-r--r--  1 yj  admin  1658880 Aug  9 18:25 ../../archive/MKVPSCHARD_0.994_20160809-1825-f7eca9-.tar\n",
      " 3240 -rw-r--r--  1 yj  admin  1658880 Aug  9 18:46 ../../archive/MKVPSCHARD_0.990_20160809-1846-94f6ae-.tar\n",
      " 3240 -rw-r--r--  1 yj  admin  1658880 Aug  9 18:54 ../../archive/MKVPSCHARD_0.986_20160809-1854-f82e8f-.tar\n",
      " 3240 -rw-r--r--  1 yj  admin  1658880 Aug  9 19:18 ../../archive/MKVPSCHARD_0.980_20160809-1918-3d7f2d-.tar\n"
     ]
    }
   ],
   "source": [
    "!tree  ../../ -d |head -n 10\n",
    "!echo  '\\n********************************\\nFind recently added tar files from Palmetto\\n********************************\\n'\n",
    "!ls -lstr ../../archive/MKVPSCHARD*.tar |tail -n 15"
   ]
  },
  {
   "cell_type": "code",
   "execution_count": 19,
   "metadata": {
    "collapsed": false
   },
   "outputs": [
    {
     "name": "stdout",
     "output_type": "stream",
     "text": [
      " 1704 -rw-r--r--  1 yj  admin   870400 Aug  8 17:49 ../../archive/MKVARHARD_0.996_20160808-1749-1c05b3-.tar\r\n",
      " 1704 -rw-r--r--  1 yj  admin   870400 Aug  8 17:49 ../../archive/MKVARHARD_0.994_20160808-1749-9fec8e-.tar\r\n",
      " 1704 -rw-r--r--  1 yj  admin   870400 Aug  8 17:54 ../../archive/MKVARHARD_0.992_20160808-1753-420a16-.tar\r\n",
      " 9144 -rw-r--r--  1 yj  admin  4679680 Aug  9 07:11 ../../archive/MKVARHARD_0.998_20160809-0711-d6e0bf-.tar\r\n",
      " 9464 -rw-r--r--  1 yj  admin  4843520 Aug  9 09:00 ../../archive/MKVARHARD_0.996_20160809-0900-d424bf-.tar\r\n",
      " 9584 -rw-r--r--  1 yj  admin  4904960 Aug  9 09:49 ../../archive/MKVARHARD_0.994_20160809-0949-24c3aa-.tar\r\n",
      " 9864 -rw-r--r--  1 yj  admin  5048320 Aug  9 10:38 ../../archive/MKVARHARD_0.992_20160809-1038-1fa8bf-.tar\r\n",
      "10064 -rw-r--r--  1 yj  admin  5150720 Aug  9 10:59 ../../archive/MKVARHARD_0.990_20160809-1059-2adc81-.tar\r\n",
      "10240 -rw-r--r--  1 yj  admin  5242880 Aug  9 11:48 ../../archive/MKVARHARD_0.985_20160809-1148-4f64b5-.tar\r\n",
      "10504 -rw-r--r--  1 yj  admin  5376000 Aug 10 02:31 ../../archive/MKVARHARD_0.998_20160810-0231-e0006a-.tar\r\n",
      "10680 -rw-r--r--  1 yj  admin  5468160 Aug 10 03:49 ../../archive/MKVARHARD_0.996_20160810-0349-145ffb-.tar\r\n",
      "10904 -rw-r--r--  1 yj  admin  5580800 Aug 10 04:27 ../../archive/MKVARHARD_0.994_20160810-0427-d1a45e-.tar\r\n",
      "11264 -rw-r--r--  1 yj  admin  5765120 Aug 10 06:06 ../../archive/MKVARHARD_0.990_20160810-0606-4beb26-.tar\r\n",
      "11520 -rw-r--r--  1 yj  admin  5898240 Aug 10 08:42 ../../archive/MKVARHARD_0.986_20160810-0842-7a2fec-.tar\r\n",
      "11720 -rw-r--r--  1 yj  admin  6000640 Aug 10 09:30 ../../archive/MKVARHARD_0.980_20160810-0930-cdac48-.tar\r\n"
     ]
    }
   ],
   "source": [
    "!ls -lstr ../../archive/MKVARHARD*.tar |tail -n 15"
   ]
  },
  {
   "cell_type": "code",
   "execution_count": 32,
   "metadata": {
    "collapsed": false
   },
   "outputs": [
    {
     "name": "stdout",
     "output_type": "stream",
     "text": [
      "../../archive/MKVPSCHARD_0.994_20160808-1526-2e4376-.tar\n",
      "../../archive/MKVPSCHARD_0.996_20160808-1536-0674d8-.tar\n",
      "../../archive/MKVPSCHARD_0.998_20160808-1526-500966-.tar\n"
     ]
    }
   ],
   "source": [
    "## VPSC \n",
    "# fns_master=glob.glob('MKVPSCHARD_*_20160806*.tar')\n",
    "## MK\n",
    "# fns_master=glob.glob('mk_*_20160730*.tar')\n",
    "## VPSC-MK - 20160808\n",
    "# fns_master = ['MKVPSCHARD_0.996_20160808-0115-1ff82a-.tar']\n",
    "# fns_master = glob.glob('MKVPSCHARD_0.9??_20160808-12*.tar')\n",
    "\n",
    "fns_master = glob.glob('../../archive/MKVPSCHARD_0.9??_20160808-15*.tar') ## VPSC hardening (path-dependent hardening)\n",
    "#fns_master = glob.glob('../../archive/MKVARHARD_0.9??_20160810-*.tar')      ## ISOTROPIC hardening\n",
    "\n",
    "fns_master.sort()\n",
    "for i in xrange(len(fns_master)):\n",
    "    print fns_master[i]"
   ]
  },
  {
   "cell_type": "code",
   "execution_count": 33,
   "metadata": {
    "collapsed": false,
    "scrolled": true
   },
   "outputs": [
    {
     "name": "stdout",
     "output_type": "stream",
     "text": [
      "CPU times: user 8 µs, sys: 4 µs, total: 12 µs\n",
      "Wall time: 24.1 µs\n"
     ]
    }
   ],
   "source": [
    "# %%timeit\n",
    "%time\n",
    "myMaster=lib.master(fns_master)"
   ]
  },
  {
   "cell_type": "markdown",
   "metadata": {},
   "source": [
    "- Example for individual plotting"
   ]
  },
  {
   "cell_type": "code",
   "execution_count": 34,
   "metadata": {
    "collapsed": false
   },
   "outputs": [
    {
     "name": "stdout",
     "output_type": "stream",
     "text": [
      "fld file name: minFLD-e6d105.txt\n",
      "fld file name: minFLD-ba0832.txt\n",
      "fld file name: minFLD-09b181.txt\n"
     ]
    },
    {
     "data": {
      "text/plain": [
       "[<lib.member instance at 0x1081d5b00>,\n",
       " <lib.member instance at 0x107bc9440>,\n",
       " <lib.member instance at 0x1072088c0>]"
      ]
     },
     "execution_count": 34,
     "metadata": {},
     "output_type": "execute_result"
    },
    {
     "data": {
      "image/png": "[encoded data removed]",
      "text/plain": [
       "<matplotlib.figure.Figure at 0x1085b0910>"
      ]
     },
     "metadata": {},
     "output_type": "display_data"
    }
   ],
   "source": [
    "myMaster.compareFit_ind(iyf=0,ihf=0,ipath=0,ieps=0,iplot=True)"
   ]
  },
  {
   "cell_type": "markdown",
   "metadata": {},
   "source": [
    "- Plotting everything."
   ]
  },
  {
   "cell_type": "code",
   "execution_count": 35,
   "metadata": {
    "collapsed": false,
    "scrolled": false
   },
   "outputs": [
    {
     "name": "stdout",
     "output_type": "stream",
     "text": [
      "masterMKdata.pdf has been saved\n",
      "CPU times: user 7.12 s, sys: 148 ms, total: 7.26 s\n",
      "Wall time: 7.32 s\n"
     ]
    }
   ],
   "source": [
    "%%time\n",
    "myMaster.plot_all()"
   ]
  },
  {
   "cell_type": "code",
   "execution_count": 36,
   "metadata": {
    "collapsed": true
   },
   "outputs": [],
   "source": [
    "d=myMaster.eachMKs[0]"
   ]
  },
  {
   "cell_type": "code",
   "execution_count": 38,
   "metadata": {
    "collapsed": true
   },
   "outputs": [],
   "source": [
    "!open masterMKdata.pdf"
   ]
  }
 ],
 "metadata": {
  "kernelspec": {
   "display_name": "Python 2",
   "language": "python",
   "name": "python2"
  },
  "language_info": {
   "codemirror_mode": {
    "name": "ipython",
    "version": 2
   },
   "file_extension": ".py",
   "mimetype": "text/x-python",
   "name": "python",
   "nbconvert_exporter": "python",
   "pygments_lexer": "ipython2",
   "version": "2.7.11"
  }
 },
 "nbformat": 4,
 "nbformat_minor": 1
}
