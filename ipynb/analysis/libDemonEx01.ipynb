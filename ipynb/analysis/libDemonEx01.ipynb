{
 "cells": [
  {
   "cell_type": "markdown",
   "metadata": {},
   "source": [
    "### Analysis on MK data tar file collected using mk_run_ex.sh file"
   ]
  },
  {
   "cell_type": "markdown",
   "metadata": {},
   "source": [
    "- preparation"
   ]
  },
  {
   "cell_type": "code",
   "execution_count": 1,
   "metadata": {
    "collapsed": false
   },
   "outputs": [
    {
     "data": {
      "text/plain": [
       "u'/Users/yj/repo/mk/ipynb/analysis'"
      ]
     },
     "execution_count": 1,
     "metadata": {},
     "output_type": "execute_result"
    }
   ],
   "source": [
    "pwd"
   ]
  },
  {
   "cell_type": "code",
   "execution_count": 2,
   "metadata": {
    "collapsed": false
   },
   "outputs": [
    {
     "name": "stdout",
     "output_type": "stream",
     "text": [
      "Populating the interactive namespace from numpy and matplotlib\n"
     ]
    }
   ],
   "source": [
    "%pylab inline"
   ]
  },
  {
   "cell_type": "code",
   "execution_count": 3,
   "metadata": {
    "collapsed": false
   },
   "outputs": [
    {
     "data": {
      "text/plain": [
       "<module 'lib' from 'lib.pyc'>"
      ]
     },
     "execution_count": 3,
     "metadata": {},
     "output_type": "execute_result"
    }
   ],
   "source": [
    "# import os, glob, subprocess, tarfile, dill, shutil,MP\n",
    "# import MP.lib.temp\n",
    "# import lib\n",
    "import lib,glob\n",
    "import MP.lib.mpl_lib\n",
    "reload(lib)"
   ]
  },
  {
   "cell_type": "code",
   "execution_count": 4,
   "metadata": {
    "collapsed": false
   },
   "outputs": [
    {
     "name": "stdout",
     "output_type": "stream",
     "text": [
      "#!/bin/bash\n",
      "    cd ~/repo/mk/archive\n",
      "    bash rsyncFromPal.sh\n",
      "    cd -\n"
     ]
    }
   ],
   "source": [
    "lib.syncArchiveFromPal()"
   ]
  },
  {
   "cell_type": "code",
   "execution_count": 5,
   "metadata": {
    "collapsed": false
   },
   "outputs": [
    {
     "name": "stdout",
     "output_type": "stream",
     "text": [
      "../../\n",
      "|-- archive\n",
      "|-- build\n",
      "|   |-- lib\n",
      "|   |   `-- mk\n",
      "|   |       |-- library\n",
      "|   |       |-- materials\n",
      "|   |       |-- tests\n",
      "|   |       `-- yieldFunction\n",
      "|   |-- lib.macosx-10.5-x86_64-2.7\n",
      "\n",
      "********************************\n",
      "Find recently added tar files from Palmetto\n",
      "********************************\n",
      "\n",
      " 9864 -rw-r--r--  1 yj  admin  5048320 Aug  9 10:38 MKVARHARD_0.992_20160809-1038-1fa8bf-.tar\n",
      "10064 -rw-r--r--  1 yj  admin  5150720 Aug  9 10:59 MKVARHARD_0.990_20160809-1059-2adc81-.tar\n",
      "10240 -rw-r--r--  1 yj  admin  5242880 Aug  9 11:48 MKVARHARD_0.985_20160809-1148-4f64b5-.tar\n",
      " 3240 -rw-r--r--  1 yj  admin  1658880 Aug  9 18:05 MKVPSCHARD_0.998_20160809-1805-84a3c5-.tar\n",
      " 3240 -rw-r--r--  1 yj  admin  1658880 Aug  9 18:23 MKVPSCHARD_0.996_20160809-1823-962e07-.tar\n",
      " 3240 -rw-r--r--  1 yj  admin  1658880 Aug  9 18:25 MKVPSCHARD_0.994_20160809-1825-f7eca9-.tar\n",
      " 3240 -rw-r--r--  1 yj  admin  1658880 Aug  9 18:46 MKVPSCHARD_0.990_20160809-1846-94f6ae-.tar\n",
      " 3240 -rw-r--r--  1 yj  admin  1658880 Aug  9 18:54 MKVPSCHARD_0.986_20160809-1854-f82e8f-.tar\n",
      " 3240 -rw-r--r--  1 yj  admin  1658880 Aug  9 19:18 MKVPSCHARD_0.980_20160809-1918-3d7f2d-.tar\n",
      "10504 -rw-r--r--  1 yj  admin  5376000 Aug 10 02:31 MKVARHARD_0.998_20160810-0231-e0006a-.tar\n",
      "10680 -rw-r--r--  1 yj  admin  5468160 Aug 10 03:49 MKVARHARD_0.996_20160810-0349-145ffb-.tar\n",
      "10904 -rw-r--r--  1 yj  admin  5580800 Aug 10 04:27 MKVARHARD_0.994_20160810-0427-d1a45e-.tar\n",
      "11264 -rw-r--r--  1 yj  admin  5765120 Aug 10 06:06 MKVARHARD_0.990_20160810-0606-4beb26-.tar\n",
      "11520 -rw-r--r--  1 yj  admin  5898240 Aug 10 08:42 MKVARHARD_0.986_20160810-0842-7a2fec-.tar\n",
      "11720 -rw-r--r--  1 yj  admin  6000640 Aug 10 09:30 MKVARHARD_0.980_20160810-0930-cdac48-.tar\n"
     ]
    }
   ],
   "source": [
    "!tree  ../../ -d |head -n 10\n",
    "!echo  '\\n********************************\\nFind recently added tar files from Palmetto\\n********************************\\n'\n",
    "!ls -lstr ../../archive/ |tail -n 15"
   ]
  },
  {
   "cell_type": "code",
   "execution_count": 6,
   "metadata": {
    "collapsed": false
   },
   "outputs": [
    {
     "name": "stdout",
     "output_type": "stream",
     "text": [
      "../../archive/MKVARHARD_0.980_20160810-0930-cdac48-.tar\n",
      "../../archive/MKVARHARD_0.986_20160810-0842-7a2fec-.tar\n",
      "../../archive/MKVARHARD_0.990_20160810-0606-4beb26-.tar\n",
      "../../archive/MKVARHARD_0.994_20160810-0427-d1a45e-.tar\n",
      "../../archive/MKVARHARD_0.996_20160810-0349-145ffb-.tar\n",
      "../../archive/MKVARHARD_0.998_20160810-0231-e0006a-.tar\n"
     ]
    }
   ],
   "source": [
    "## VPSC \n",
    "# fns_master=glob.glob('MKVPSCHARD_*_20160806*.tar')\n",
    "## MK\n",
    "# fns_master=glob.glob('mk_*_20160730*.tar')\n",
    "## VPSC-MK - 20160808\n",
    "# fns_master = ['MKVPSCHARD_0.996_20160808-0115-1ff82a-.tar']\n",
    "# fns_master = glob.glob('MKVPSCHARD_0.9??_20160808-12*.tar')\n",
    "# fns_master = glob.glob('../../archive/MKVPSCHARD_0.9??_20160808-15*.tar') ## VPSC hardening \n",
    "\n",
    "fns_master = glob.glob('../../archive/MKVARHARD_0.9??_20160810-*.tar') ## VPSC hardening \n",
    "\n",
    "# fns_master=glob.glob('../../archive/MKVARHARD_0.9??_20160809-0???-*.tar')\n",
    "fns_master.sort()\n",
    "for i in xrange(len(fns_master)):\n",
    "    print fns_master[i]"
   ]
  },
  {
   "cell_type": "code",
   "execution_count": 7,
   "metadata": {
    "collapsed": false,
    "scrolled": true
   },
   "outputs": [
    {
     "name": "stdout",
     "output_type": "stream",
     "text": [
      "CPU times: user 6 µs, sys: 1 µs, total: 7 µs\n",
      "Wall time: 13.1 µs\n"
     ]
    },
    {
     "name": "stderr",
     "output_type": "stream",
     "text": [
      "/Users/yj/anaconda/lib/python2.7/site-packages/numpy/lib/npyio.py:893: UserWarning: loadtxt: Empty input file: \"minFLD-1c1cc9.txt\"\n",
      "  warnings.warn('loadtxt: Empty input file: \"%s\"' % fname)\n"
     ]
    }
   ],
   "source": [
    "# %%timeit\n",
    "%time\n",
    "myMaster=lib.master(fns_master)"
   ]
  },
  {
   "cell_type": "markdown",
   "metadata": {},
   "source": [
    "- Example for individual plotting"
   ]
  },
  {
   "cell_type": "code",
   "execution_count": 8,
   "metadata": {
    "collapsed": false
   },
   "outputs": [
    {
     "name": "stdout",
     "output_type": "stream",
     "text": [
      "fld file name: minFLD-cfd69e.txt\n",
      "fld file name: minFLD-234980.txt\n",
      "fld file name: minFLD-d62a80.txt\n",
      "fld file name: minFLD-51547c.txt\n",
      "fld file name: minFLD-4727bf.txt\n",
      "fld file name: minFLD-f6644e.txt\n"
     ]
    },
    {
     "data": {
      "text/plain": [
       "[<lib.member instance at 0x105eb59e0>,\n",
       " <lib.member instance at 0x105ec9a70>,\n",
       " <lib.member instance at 0x105edea70>,\n",
       " <lib.member instance at 0x105edda70>,\n",
       " <lib.member instance at 0x105ef5a70>,\n",
       " <lib.member instance at 0x105f55a70>]"
      ]
     },
     "execution_count": 8,
     "metadata": {},
     "output_type": "execute_result"
    },
    {
     "data": {
      "image/png": "[encoded data removed]",
      "text/plain": [
       "<matplotlib.figure.Figure at 0x105f6fd50>"
      ]
     },
     "metadata": {},
     "output_type": "display_data"
    }
   ],
   "source": [
    "myMaster.compareFit_ind(iyf=0,ihf=0,ipath=0,ieps=0,iplot=True)"
   ]
  },
  {
   "cell_type": "markdown",
   "metadata": {},
   "source": [
    "- Plotting everything."
   ]
  },
  {
   "cell_type": "code",
   "execution_count": 9,
   "metadata": {
    "collapsed": false,
    "scrolled": false
   },
   "outputs": [
    {
     "name": "stdout",
     "output_type": "stream",
     "text": [
      "CPU times: user 5 µs, sys: 0 ns, total: 5 µs\n",
      "Wall time: 8.82 µs\n",
      "masterMKdata.pdf has been saved\n"
     ]
    }
   ],
   "source": [
    "%time\n",
    "myMaster.plot_all()"
   ]
  },
  {
   "cell_type": "code",
   "execution_count": 10,
   "metadata": {
    "collapsed": true
   },
   "outputs": [],
   "source": [
    "d=myMaster.eachMKs[0]"
   ]
  },
  {
   "cell_type": "code",
   "execution_count": 20,
   "metadata": {
    "collapsed": false,
    "scrolled": true
   },
   "outputs": [
    {
     "data": {
      "text/plain": [
       "array([[   nan,  0.898,  0.729,  0.659,  0.629,  0.612,    nan,    nan,\n",
       "           nan,  0.374,  0.256,  0.134, -0.   , -0.181,    nan],\n",
       "       [   nan, -0.18 , -0.   ,  0.132,  0.252,  0.367,    nan,    nan,\n",
       "           nan,  0.623,  0.641,  0.672,  0.741,  0.904,    nan]])"
      ]
     },
     "execution_count": 20,
     "metadata": {},
     "output_type": "execute_result"
    }
   ],
   "source": [
    "myMaster.membersContainer[0,1,0,0,0].flc"
   ]
  },
  {
   "cell_type": "code",
   "execution_count": 21,
   "metadata": {
    "collapsed": true
   },
   "outputs": [],
   "source": [
    "!open masterMKdata.pdf"
   ]
  },
  {
   "cell_type": "code",
   "execution_count": null,
   "metadata": {
    "collapsed": true
   },
   "outputs": [],
   "source": []
  }
 ],
 "metadata": {
  "kernelspec": {
   "display_name": "Python 2",
   "language": "python",
   "name": "python2"
  },
  "language_info": {
   "codemirror_mode": {
    "name": "ipython",
    "version": 2
   },
   "file_extension": ".py",
   "mimetype": "text/x-python",
   "name": "python",
   "nbconvert_exporter": "python",
   "pygments_lexer": "ipython2",
   "version": "2.7.11"
  }
 },
 "nbformat": 4,
 "nbformat_minor": 1
}
