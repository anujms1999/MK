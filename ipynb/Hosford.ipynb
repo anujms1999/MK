{
 "cells": [
  {
   "cell_type": "markdown",
   "metadata": {},
   "source": [
    "# Dependents"
   ]
  },
  {
   "cell_type": "code",
   "execution_count": null,
   "metadata": {
    "collapsed": false
   },
   "outputs": [],
   "source": [
    "%pylab inline\n",
    "from scipy import optimize\n",
    "from mpl_toolkits.mplot3d import Axes3D\n",
    "import matplotlib.pyplot as plt\n",
    "import os\n",
    "from MP.mat import voigt\n",
    "ijv=voigt.ijv\n",
    "vij=voigt.vij\n",
    "\n",
    "\n",
    "p_home = os.getcwd()\n",
    "p_load = '/Users/yj/repo/vpsc/vpsc-dev-yld/src/py_pack/yld_hah/'\n",
    "\n",
    "os.chdir(p_load)\n",
    "import lib_dat\n",
    "os.chdir(p_home)"
   ]
  },
  {
   "cell_type": "code",
   "execution_count": null,
   "metadata": {
    "collapsed": true
   },
   "outputs": [],
   "source": [
    "def ys_temp(ax):\n",
    "    ax.grid()\n",
    "    ax.set_aspect('equal')\n",
    "    ax.set_xlabel(r'$\\Sigma_\\mathrm{11}$',fontsize=17)\n",
    "    ax.set_ylabel(r'$\\Sigma_\\mathrm{22}$',fontsize=17)\n",
    "    \n",
    "def pi_proj(sd):\n",
    "    \"\"\"\n",
    "    Deviatoric stress to pi-plane projection\n",
    "    \"\"\"\n",
    "    sq6 = np.sqrt(6.)\n",
    "    sq2 = np.sqrt(2.)    \n",
    "    x = 2.*sd[0]/sq6 - sd[1] / sq6 - sd[2] / sq6\n",
    "    y =                sd[1] / sq2 - sd[2] / sq2\n",
    "    return x,y \n",
    "\n",
    "def devit(x,p=0.):\n",
    "    \"\"\"\n",
    "    Convert it to a deviatoric space with\n",
    "    hydrostatic stress of <p>\n",
    "    \n",
    "    Argument\n",
    "    --------\n",
    "    x  : Conver stress <x> to a deviatric\n",
    "    p  : pressure (optional, if non-zero,\n",
    "                   translate the stress along hydrostatic axis)\n",
    "    \"\"\"\n",
    "    x=np.array(x,dtype='float')\n",
    "    m=x[:3].sum()/3.\n",
    "    x[:3]=x[:3]-m\n",
    "    \n",
    "    if p!=0:\n",
    "        x[:3]=x[:3]+p/3.    \n",
    "    return x"
   ]
  },
  {
   "cell_type": "markdown",
   "metadata": {},
   "source": [
    "## General Hosford yield surface in the principal stress space"
   ]
  },
  {
   "cell_type": "markdown",
   "metadata": {},
   "source": [
    "$\\phi^H(\\sigma)=\\langle\\frac{1}{2}(|\\sigma_1-\\sigma_2|^a+|\\sigma_1-\\sigma_3|^a+|\\sigma_2-\\sigma_3|^a)\\rangle^{1/a}$"
   ]
  },
  {
   "cell_type": "code",
   "execution_count": null,
   "metadata": {
    "collapsed": false
   },
   "outputs": [],
   "source": [
    "ijv.shape\n",
    "print ijv"
   ]
  },
  {
   "cell_type": "code",
   "execution_count": null,
   "metadata": {
    "collapsed": false
   },
   "outputs": [],
   "source": [
    "def hosford(sigma,a):\n",
    "    \"\"\"\n",
    "    Sigma should be principal stress\n",
    "    \"\"\"\n",
    "    #Assuming sigma is 6d\n",
    "\n",
    "    mat33=np.zeros((3,3))\n",
    "    for k in xrange(6):\n",
    "        i,j = ijv[:,k]\n",
    "        mat33[i,j] = sigma[k]\n",
    "        if i!=j: mat33[j,i]=sigma[k]\n",
    "\n",
    "    w,v = numpy.linalg.eig(mat33)\n",
    "    s1,s2,s3 = w\n",
    "    phi=0.5*(np.abs(s1-s2)**a + np.abs(s1-s3)**a + np.abs(s2-s3)**a)\n",
    "    return phi**(1./a)"
   ]
  },
  {
   "cell_type": "code",
   "execution_count": null,
   "metadata": {
    "collapsed": false
   },
   "outputs": [],
   "source": [
    "def th_2_planestress(th):\n",
    "    \"\"\"\n",
    "    Given theta, return the stress.\n",
    "\n",
    "    Argument\n",
    "    --------\n",
    "    th\n",
    "    \"\"\"\n",
    "    sigma=np.zeros(6)\n",
    "    sigma[0]=np.cos(th)\n",
    "    sigma[1]=np.sin(th)    \n",
    "    return sigma\n",
    "\n",
    "def th_planestress(th=0.,a=2.):\n",
    "    \"\"\"\n",
    "    \n",
    "    Return stress tensors that gives the same\n",
    "    size (value) of phi\n",
    "    \n",
    "    Argument\n",
    "    --------\n",
    "    th\n",
    "    a\n",
    "    \"\"\"\n",
    "    Sigma = th_2_planestress(th)\n",
    "    y     = hosford(Sigma,a)\n",
    "    return Sigma / y"
   ]
  },
  {
   "cell_type": "markdown",
   "metadata": {},
   "source": [
    "## Hosford yield locus"
   ]
  },
  {
   "cell_type": "code",
   "execution_count": null,
   "metadata": {
    "collapsed": false,
    "scrolled": true
   },
   "outputs": [],
   "source": [
    "def hosford_ys(nths,a):\n",
    "    ths=np.linspace(-pi,pi,nths)\n",
    "    locus_ps=np.zeros((2,nths))\n",
    "\n",
    "    xy=[]\n",
    "    for i in xrange(len(ths)):\n",
    "        ys = th_planestress(ths[i],a=a) ## stress tensors\n",
    "        locus_ps[:,i]=ys[0],ys[1]\n",
    "        sd = np.zeros(6)\n",
    "        sd[0],sd[1] = ys[0],ys[1]\n",
    "        sd = devit(sd)\n",
    "        x, y = pi_proj(sd)\n",
    "        xy.append([x,y])\n",
    "\n",
    "    locus_pi=np.array(xy).T\n",
    "    return locus_ps, locus_pi\n",
    "\n",
    "locus_ps,locus_pi = hosford_ys(nths=1000,a=8)\n",
    "\n",
    "fig=plt.figure(figsize=(7,3))\n",
    "ax1=fig.add_subplot(121); ax2=fig.add_subplot(122)\n",
    "ax1.plot(locus_ps[0],locus_ps[1],'k-')\n",
    "ax2.plot(locus_pi[0],locus_pi[1],'k-')\n",
    "\n",
    "## deco\n",
    "lib_dat.pi_rad(ax2,rot=150,rel=1.5)\n",
    "ys_temp(ax1)"
   ]
  },
  {
   "cell_type": "markdown",
   "metadata": {},
   "source": [
    "## Associated Flow Rule\n",
    "\n",
    "- Tensorial representation of associated flow rule\n",
    "\n",
    "$\\dot{\\varepsilon}_{ij} = \\lambda \\frac{\\partial \\phi(\\mathbf{\\sigma})}{\\partial \\sigma_{ij}}$\n",
    "\n",
    "- 6D vectorial representation\n",
    "\n",
    "$\\dot{\\varepsilon}_k=\\lambda \\frac{\\partial \\phi(\\mathrm{\\sigma})}{\\partial \\sigma_k}$\n",
    "\n",
    "\n"
   ]
  },
  {
   "cell_type": "markdown",
   "metadata": {},
   "source": [
    "- Numerical approximation of the above is:\n",
    "\n",
    "$\\dot{\\varepsilon}_k=\\lambda\\ \\delta_{ki} \\frac{\\phi(\\sigma_1,\\sigma_2,...,\\sigma+\\Delta\\sigma_i) - \\phi(\\sigma_1,\\sigma_2,...,\\sigma_i+\\Delta\\sigma)}{2\\Delta \\sigma} $\n",
    "\n",
    "With infinitesimally small $\\Delta \\sigma$\n",
    "\n",
    "$\\Delta \\sigma$ should be sufficiently small."
   ]
  },
  {
   "cell_type": "code",
   "execution_count": null,
   "metadata": {
    "collapsed": false
   },
   "outputs": [],
   "source": [
    "def assoc_flow(s6=[1,0,0,0,0,0],a=8,lamb=1.):\n",
    "    \"\"\"\n",
    "    Argument\n",
    "    --------\n",
    "    s6  (6D cauchy stress)\n",
    "    \"\"\"\n",
    "    dlt = 1e-10\n",
    "    phi = hosford(s6,a)\n",
    "    s1  = np.zeros(6); s2  = np.zeros(6)\n",
    "    dki = np.identity(6)\n",
    "    e_k = np.zeros(6)\n",
    "\n",
    "    for k in xrange(6):\n",
    "        dum=0.\n",
    "        s1=np.zeros(6);\n",
    "        s2=np.zeros(6);\n",
    "        for i in xrange(6):\n",
    "            s1[i] = s[i] + dki[k,i] * dlt\n",
    "            s2[i] = s[i] - dki[k,i] * dlt\n",
    "        e_k[k] = lamb*(hosford(s1,a) - hosford(s2,a))/(2*dlt)\n",
    "    return e_k"
   ]
  },
  {
   "cell_type": "markdown",
   "metadata": {
    "collapsed": false
   },
   "source": [
    "## Test Associated Flow Rule"
   ]
  },
  {
   "cell_type": "code",
   "execution_count": null,
   "metadata": {
    "collapsed": false
   },
   "outputs": [],
   "source": [
    "a=20\n",
    "locus_ps,locus_pi = hosford_ys(nths=1000,a=a)\n",
    "\n",
    "\n",
    "fig=plt.figure(figsize=(3.5,3))\n",
    "ax1=fig.add_subplot(111)\n",
    "\n",
    "nstp=15\n",
    "ax1.plot(locus_ps[0],locus_ps[1],'k-')\n",
    "for i in xrange(len(locus[0])/nstp):\n",
    "    x,y = locus_ps[0][i*nstp],locus_ps[1][i*nstp]\n",
    "    th  = np.arctan2(y,x)\n",
    "    s   = np.array([x,y,0,0,0,0])\n",
    "\n",
    "    de = assoc_flow(s,a,0.02)\n",
    "    #de[:2]=de[:2]/np.sqrt((de[:2]**2).sum())\n",
    "    TH  = np.arctan2(de[1],de[0])\n",
    "    r = 0.2\n",
    "    dx,dy = r*cos(TH),r*sin(TH)\n",
    "    ax1.arrow(x,y,dx,dy,color='red')\n",
    "    # ax1.plot(x,y,'k.')\n",
    "\n",
    "ys_temp(ax1)"
   ]
  },
  {
   "cell_type": "code",
   "execution_count": null,
   "metadata": {
    "collapsed": true
   },
   "outputs": [],
   "source": []
  }
 ],
 "metadata": {
  "kernelspec": {
   "display_name": "Python 2",
   "language": "python",
   "name": "python2"
  },
  "language_info": {
   "codemirror_mode": {
    "name": "ipython",
    "version": 2
   },
   "file_extension": ".py",
   "mimetype": "text/x-python",
   "name": "python",
   "nbconvert_exporter": "python",
   "pygments_lexer": "ipython2",
   "version": "2.7.11"
  }
 },
 "nbformat": 4,
 "nbformat_minor": 0
}
